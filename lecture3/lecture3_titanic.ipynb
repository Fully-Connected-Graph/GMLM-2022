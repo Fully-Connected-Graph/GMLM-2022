{
 "cells": [
  {
   "cell_type": "markdown",
   "metadata": {
    "id": "81eaqwZTnBY4",
    "slideshow": {
     "slide_type": "slide"
    }
   },
   "source": [
    "# Titanic - Machine Learning from Disaster\n",
    "\n",
    "![](https://storage.googleapis.com/kaggle-competitions/kaggle/3136/logos/header.png)\n",
    "\n",
    "<p align=\"center\">\n",
    "    <img src=\"https://kaggle.com/static/images/site-logo.svg\" width=\"200\">\n",
    "</p>"
   ]
  },
  {
   "cell_type": "markdown",
   "metadata": {
    "slideshow": {
     "slide_type": "subslide"
    }
   },
   "source": [
    "- `survival` –\tSurvival (0 = No, 1 = Yes)\n",
    "- `pclass` – Ticket class (1 = 1st, 2 = 2nd, 3 = 3rd)\n",
    "- `sex` – Sex\n",
    "- `Age` – Age in years\n",
    "- `sibsp` –\t# of siblings or spouses aboard the Titanic\t\n",
    "- `parch` –\t# of parents or children aboard the Titanic\t\n",
    "- `ticket` – Ticket number\n",
    "- `fare` –\tPassenger fare\n",
    "- `cabin` –\tCabin number\n",
    "- `embarked` – Port of Embarkation (C = Cherbourg, Q = Queenstown, S = Southampton)"
   ]
  },
  {
   "cell_type": "markdown",
   "metadata": {
    "id": "HicwVeDLnGye",
    "slideshow": {
     "slide_type": "slide"
    }
   },
   "source": [
    "Download dataset"
   ]
  },
  {
   "cell_type": "code",
   "execution_count": null,
   "metadata": {
    "id": "JHWuAWsigjra",
    "slideshow": {
     "slide_type": "fragment"
    }
   },
   "outputs": [],
   "source": [
    "!curl https://fully-connected-graph.github.io/datasets/titanic/titanic.csv -o titanic.csv"
   ]
  },
  {
   "cell_type": "markdown",
   "metadata": {
    "id": "dsMfZrBcnIlf",
    "slideshow": {
     "slide_type": "skip"
    }
   },
   "source": [
    "Get required libraries"
   ]
  },
  {
   "cell_type": "code",
   "execution_count": null,
   "metadata": {
    "id": "FZ-tmHiAhikU",
    "slideshow": {
     "slide_type": "skip"
    }
   },
   "outputs": [],
   "source": [
    "%%capture\n",
    "!pip install matplotlib"
   ]
  },
  {
   "cell_type": "markdown",
   "metadata": {
    "id": "9DQu_0lcnLV9",
    "slideshow": {
     "slide_type": "slide"
    }
   },
   "source": [
    "Import required libraries"
   ]
  },
  {
   "cell_type": "code",
   "execution_count": null,
   "metadata": {
    "id": "BTvwb15phm51",
    "slideshow": {
     "slide_type": "fragment"
    }
   },
   "outputs": [],
   "source": [
    "import pandas as pd\n",
    "import numpy as np\n",
    "import matplotlib.pyplot as plt\n",
    "from sklearn.model_selection import train_test_split\n",
    "from sklearn.model_selection import GridSearchCV\n",
    "from sklearn.preprocessing import StandardScaler\n",
    "from tensorflow.keras.models import Sequential\n",
    "from tensorflow.keras.layers import Dense, Dropout\n",
    "from tensorflow.keras.utils import plot_model"
   ]
  },
  {
   "cell_type": "markdown",
   "metadata": {
    "id": "QQcbT0GUnOPS",
    "slideshow": {
     "slide_type": "slide"
    }
   },
   "source": [
    "Set the random seed, so that we get the same result"
   ]
  },
  {
   "cell_type": "code",
   "execution_count": null,
   "metadata": {
    "id": "JY1aDcKO1xxs",
    "slideshow": {
     "slide_type": "fragment"
    }
   },
   "outputs": [],
   "source": [
    "from numpy.random import seed\n",
    "from tensorflow.random import set_seed\n",
    "\n",
    "seed(42)\n",
    "set_seed(42)"
   ]
  },
  {
   "cell_type": "markdown",
   "metadata": {
    "id": "VXf7bxiHnWR8",
    "slideshow": {
     "slide_type": "slide"
    }
   },
   "source": [
    "## Data Preprocessing\n",
    "\n",
    "Load Dataset"
   ]
  },
  {
   "cell_type": "code",
   "execution_count": null,
   "metadata": {
    "id": "-VdA0jn-h1Y7",
    "slideshow": {
     "slide_type": "fragment"
    }
   },
   "outputs": [],
   "source": [
    "data = pd.read_csv(\"titanic.csv\", index_col=\"PassengerId\")\n",
    "\n",
    "data.head()"
   ]
  },
  {
   "cell_type": "markdown",
   "metadata": {
    "id": "uNR4hFzeFB0s",
    "slideshow": {
     "slide_type": "slide"
    }
   },
   "source": [
    "Rename the columns"
   ]
  },
  {
   "cell_type": "code",
   "execution_count": null,
   "metadata": {
    "id": "UeMzk8TLFBa8",
    "slideshow": {
     "slide_type": "fragment"
    }
   },
   "outputs": [],
   "source": [
    "data.columns = [\n",
    "    \"survived\", \n",
    "    \"p_class\", \n",
    "    \"name\", \n",
    "    \"sex\", \n",
    "    \"age\", \n",
    "    \"sib_sp\", \n",
    "    \"parch\", \n",
    "    \"ticket\", \n",
    "    \"fare\", \n",
    "    \"cabin\", \n",
    "    \"embarked\"\n",
    "]"
   ]
  },
  {
   "cell_type": "code",
   "execution_count": null,
   "metadata": {
    "slideshow": {
     "slide_type": "slide"
    }
   },
   "outputs": [],
   "source": [
    "data.head()"
   ]
  },
  {
   "cell_type": "code",
   "execution_count": null,
   "metadata": {
    "id": "3dwgdXh_Fm_K",
    "slideshow": {
     "slide_type": "slide"
    }
   },
   "outputs": [],
   "source": [
    "data.info()"
   ]
  },
  {
   "cell_type": "markdown",
   "metadata": {
    "id": "4CR4zFaeFqZP",
    "slideshow": {
     "slide_type": "fragment"
    }
   },
   "source": [
    "There are missing values in: `age`, `cabin`, `embarked` (only two)"
   ]
  },
  {
   "cell_type": "markdown",
   "metadata": {
    "id": "tFWUO2QEnbh7",
    "slideshow": {
     "slide_type": "slide"
    }
   },
   "source": [
    "### Cleaning data"
   ]
  },
  {
   "cell_type": "code",
   "execution_count": null,
   "metadata": {
    "slideshow": {
     "slide_type": "subslide"
    }
   },
   "outputs": [],
   "source": [
    "len(data['name'].unique())"
   ]
  },
  {
   "cell_type": "code",
   "execution_count": null,
   "metadata": {
    "slideshow": {
     "slide_type": "subslide"
    }
   },
   "outputs": [],
   "source": [
    "len(data['ticket'].unique())"
   ]
  },
  {
   "cell_type": "markdown",
   "metadata": {
    "slideshow": {
     "slide_type": "subslide"
    }
   },
   "source": [
    "- cabin is missing most of its values\n",
    "- ticket and name have a unique value for every data point"
   ]
  },
  {
   "cell_type": "code",
   "execution_count": null,
   "metadata": {
    "id": "TkDfjWAbnlBn",
    "slideshow": {
     "slide_type": "subslide"
    }
   },
   "outputs": [],
   "source": [
    "data.drop(\n",
    "    ['cabin', 'name', 'ticket'], \n",
    "    axis=1, inplace=True\n",
    ")"
   ]
  },
  {
   "cell_type": "markdown",
   "metadata": {
    "id": "eyW1htJGnfvJ",
    "slideshow": {
     "slide_type": "slide"
    }
   },
   "source": [
    "### Fill missing values"
   ]
  },
  {
   "cell_type": "code",
   "execution_count": null,
   "metadata": {
    "id": "Nhxajnb96BEi",
    "slideshow": {
     "slide_type": "subslide"
    }
   },
   "outputs": [],
   "source": [
    "# fill with the median (the middle age value)\n",
    "data['age'] = data['age'].fillna(\n",
    "    value=data['age'].median()\n",
    ")\n",
    "\n",
    "# fill with the mode (most occuring value)\n",
    "data['embarked'] = data['embarked'].fillna(\n",
    "    value=data['embarked'].value_counts().idxmax()\n",
    ")"
   ]
  },
  {
   "cell_type": "code",
   "execution_count": null,
   "metadata": {
    "slideshow": {
     "slide_type": "subslide"
    }
   },
   "outputs": [],
   "source": [
    "data.info()"
   ]
  },
  {
   "cell_type": "markdown",
   "metadata": {
    "slideshow": {
     "slide_type": "slide"
    }
   },
   "source": [
    "### Encode categorical data"
   ]
  },
  {
   "cell_type": "code",
   "execution_count": null,
   "metadata": {},
   "outputs": [],
   "source": [
    "data[\"p_class\"] = data[\"p_class\"].astype('str')"
   ]
  },
  {
   "cell_type": "markdown",
   "metadata": {
    "id": "lkGa3yq2nlgL",
    "slideshow": {
     "slide_type": "subslide"
    }
   },
   "source": [
    "One hot encode categorical data"
   ]
  },
  {
   "cell_type": "code",
   "execution_count": null,
   "metadata": {
    "slideshow": {
     "slide_type": "fragment"
    }
   },
   "outputs": [],
   "source": [
    "categorical_col = [\n",
    "    \"sex\",\n",
    "    \"embarked\",\n",
    "    \"p_class\",\n",
    "    \"survived\"\n",
    "]"
   ]
  },
  {
   "cell_type": "code",
   "execution_count": null,
   "metadata": {
    "id": "OyOS2la1liPS",
    "slideshow": {
     "slide_type": "fragment"
    }
   },
   "outputs": [],
   "source": [
    "ohe_data = pd.get_dummies(\n",
    "    data[categorical_col],\n",
    "    drop_first=True\n",
    ")\n",
    "\n",
    "ohe_data.head()"
   ]
  },
  {
   "cell_type": "markdown",
   "metadata": {
    "id": "HeS5lWwinpDH",
    "slideshow": {
     "slide_type": "subslide"
    }
   },
   "source": [
    "Isolate numerical data"
   ]
  },
  {
   "cell_type": "code",
   "execution_count": null,
   "metadata": {
    "id": "hV5hmOqinE-E",
    "scrolled": true,
    "slideshow": {
     "slide_type": "fragment"
    }
   },
   "outputs": [],
   "source": [
    "num_data = data.drop(\n",
    "    categorical_col, \n",
    "    axis=1\n",
    ")\n",
    "\n",
    "num_data.head()"
   ]
  },
  {
   "cell_type": "markdown",
   "metadata": {
    "id": "2V0kVPeFnseY",
    "slideshow": {
     "slide_type": "subslide"
    }
   },
   "source": [
    "Recombine data"
   ]
  },
  {
   "cell_type": "code",
   "execution_count": null,
   "metadata": {
    "id": "IOHKVEi1oEsV",
    "slideshow": {
     "slide_type": "fragment"
    }
   },
   "outputs": [],
   "source": [
    "prep_data = pd.concat([\n",
    "    ohe_data,\n",
    "    num_data\n",
    "], axis=1)\n",
    "\n",
    "prep_data.head()"
   ]
  },
  {
   "cell_type": "markdown",
   "metadata": {
    "id": "Q6on8LjXn6xa",
    "slideshow": {
     "slide_type": "slide"
    }
   },
   "source": [
    "Create training and testing data"
   ]
  },
  {
   "cell_type": "code",
   "execution_count": null,
   "metadata": {
    "id": "TocFCSX7qLxm",
    "slideshow": {
     "slide_type": "fragment"
    }
   },
   "outputs": [],
   "source": [
    "features = prep_data.drop('survived', axis=1)\n",
    "target = prep_data['survived']\n",
    "\n",
    "features_train, features_test, target_train, target_test = train_test_split(\n",
    "    features,\n",
    "    target,\n",
    "    test_size = .2,\n",
    "    random_state = 1\n",
    ")"
   ]
  },
  {
   "cell_type": "markdown",
   "metadata": {
    "slideshow": {
     "slide_type": "subslide"
    }
   },
   "source": [
    "#### Scale numerical data"
   ]
  },
  {
   "cell_type": "markdown",
   "metadata": {
    "id": "qbnU8xllnz3k",
    "slideshow": {
     "slide_type": "fragment"
    }
   },
   "source": [
    "Scaling numerical data ensures that the algorithm converges faster.\n",
    "\n",
    "<p align=\"center\">\n",
    "<img src=\"https://fully-connected-graph.github.io/GMLM-2022/lecture3/assets/feature_scaling.png\"/>\n",
    "</p>"
   ]
  },
  {
   "cell_type": "code",
   "execution_count": null,
   "metadata": {
    "id": "cu75io4vpsvE",
    "slideshow": {
     "slide_type": "subslide"
    }
   },
   "outputs": [],
   "source": [
    "scaler = StandardScaler()\n",
    "\n",
    "features_train[num_data.columns] = scaler.fit_transform(features_train[num_data.columns])\n",
    "\n",
    "features_train.head()"
   ]
  },
  {
   "cell_type": "code",
   "execution_count": null,
   "metadata": {
    "slideshow": {
     "slide_type": "subslide"
    }
   },
   "outputs": [],
   "source": [
    "features_test[num_data.columns] = scaler.transform(features_test[num_data.columns])\n",
    "\n",
    "features_test.head()"
   ]
  },
  {
   "cell_type": "markdown",
   "metadata": {
    "id": "usmdowq2n-10",
    "slideshow": {
     "slide_type": "slide"
    }
   },
   "source": [
    "## Model Creation"
   ]
  },
  {
   "cell_type": "code",
   "execution_count": null,
   "metadata": {
    "id": "DYWBfmx4q3LB",
    "slideshow": {
     "slide_type": "fragment"
    }
   },
   "outputs": [],
   "source": [
    "model = Sequential()"
   ]
  },
  {
   "cell_type": "code",
   "execution_count": null,
   "metadata": {
    "id": "yMzlJYtPrwBu",
    "slideshow": {
     "slide_type": "fragment"
    }
   },
   "outputs": [],
   "source": [
    "# Add first layer and input layer\n",
    "model.add(Dense(12, input_dim=features_train.shape[1], activation=\"relu\"))"
   ]
  },
  {
   "cell_type": "code",
   "execution_count": null,
   "metadata": {
    "id": "GN3bQASCwCZ0",
    "slideshow": {
     "slide_type": "fragment"
    }
   },
   "outputs": [],
   "source": [
    "# Add second layer\n",
    "model.add(Dense(12, activation='linear'))"
   ]
  },
  {
   "cell_type": "code",
   "execution_count": null,
   "metadata": {
    "id": "1HeeS_wmr5zn",
    "slideshow": {
     "slide_type": "fragment"
    }
   },
   "outputs": [],
   "source": [
    "# Add output layer\n",
    "model.add(Dense(1, activation='sigmoid'))"
   ]
  },
  {
   "cell_type": "markdown",
   "metadata": {
    "slideshow": {
     "slide_type": "subslide"
    }
   },
   "source": [
    "View model summary"
   ]
  },
  {
   "cell_type": "code",
   "execution_count": null,
   "metadata": {},
   "outputs": [],
   "source": [
    "model.summary()"
   ]
  },
  {
   "cell_type": "code",
   "execution_count": null,
   "metadata": {
    "id": "PAwLgH49slEd",
    "scrolled": false,
    "slideshow": {
     "slide_type": "subslide"
    }
   },
   "outputs": [],
   "source": [
    "plot_model(model, show_shapes=True, show_layer_names=False)"
   ]
  },
  {
   "cell_type": "markdown",
   "metadata": {
    "id": "eyHaC2-HoW1E",
    "slideshow": {
     "slide_type": "subslide"
    }
   },
   "source": [
    "Compile the model:\n",
    "- set its loss function\n",
    "- optimizer\n",
    "- metrics"
   ]
  },
  {
   "cell_type": "code",
   "execution_count": null,
   "metadata": {
    "id": "3t71VqHHr62p",
    "slideshow": {
     "slide_type": "fragment"
    }
   },
   "outputs": [],
   "source": [
    "model.compile(loss='binary_crossentropy', optimizer=\"Adam\", metrics=['acc'])"
   ]
  },
  {
   "cell_type": "markdown",
   "metadata": {
    "id": "I50wuENEoig_",
    "slideshow": {
     "slide_type": "subslide"
    }
   },
   "source": [
    "Train the model"
   ]
  },
  {
   "cell_type": "code",
   "execution_count": null,
   "metadata": {
    "id": "yh0B3oNMtixh",
    "scrolled": true,
    "slideshow": {
     "slide_type": "fragment"
    }
   },
   "outputs": [],
   "source": [
    "history = model.fit(\n",
    "    features_train, target_train, \n",
    "    epochs=20, batch_size=10, \n",
    "    validation_split=0.2, \n",
    "    verbose=1\n",
    ")"
   ]
  },
  {
   "cell_type": "code",
   "execution_count": null,
   "metadata": {
    "slideshow": {
     "slide_type": "subslide"
    }
   },
   "outputs": [],
   "source": [
    "plt.plot(history.history['loss'])\n",
    "plt.plot(history.history['val_loss'])\n",
    "plt.title('model accuracy')\n",
    "plt.ylabel('loss')\n",
    "plt.xlabel('epoch')\n",
    "plt.legend(['train', 'val'], loc='upper left')\n",
    "plt.show()"
   ]
  },
  {
   "cell_type": "code",
   "execution_count": null,
   "metadata": {
    "slideshow": {
     "slide_type": "subslide"
    }
   },
   "outputs": [],
   "source": [
    "plt.plot(history.history['acc'])\n",
    "plt.plot(history.history['val_acc'])\n",
    "plt.title('model accuracy')\n",
    "plt.ylabel('accuracy')\n",
    "plt.xlabel('epoch')\n",
    "plt.legend(['train', 'val'], loc='upper left')\n",
    "plt.show()"
   ]
  },
  {
   "cell_type": "markdown",
   "metadata": {
    "id": "z-Wjmh4zokRY",
    "slideshow": {
     "slide_type": "subslide"
    }
   },
   "source": [
    "Get accuracy on the testing set"
   ]
  },
  {
   "cell_type": "code",
   "execution_count": null,
   "metadata": {
    "id": "rGcedbWAtxeg",
    "slideshow": {
     "slide_type": "fragment"
    }
   },
   "outputs": [],
   "source": [
    "scores = model.evaluate(features_test, target_test, verbose=0)\n",
    "print(\"%s: %.2f%%\" % (model.metrics_names[1], scores[1]*100))"
   ]
  },
  {
   "cell_type": "markdown",
   "metadata": {
    "slideshow": {
     "slide_type": "slide"
    }
   },
   "source": [
    "# thank you 🧸\n",
    "\n",
    "let's move on to the practical!"
   ]
  },
  {
   "cell_type": "code",
   "execution_count": null,
   "metadata": {},
   "outputs": [],
   "source": [
    "print(\"Yay\")"
   ]
  }
 ],
 "metadata": {
  "colab": {
   "provenance": []
  },
  "kernelspec": {
   "display_name": "Python 3 (ipykernel)",
   "language": "python",
   "name": "python3"
  },
  "language_info": {
   "codemirror_mode": {
    "name": "ipython",
    "version": 3
   },
   "file_extension": ".py",
   "mimetype": "text/x-python",
   "name": "python",
   "nbconvert_exporter": "python",
   "pygments_lexer": "ipython3",
   "version": "3.9.10"
  },
  "toc": {
   "base_numbering": 1,
   "nav_menu": {},
   "number_sections": true,
   "sideBar": true,
   "skip_h1_title": false,
   "title_cell": "Table of Contents",
   "title_sidebar": "Contents",
   "toc_cell": false,
   "toc_position": {},
   "toc_section_display": true,
   "toc_window_display": false
  }
 },
 "nbformat": 4,
 "nbformat_minor": 1
}
